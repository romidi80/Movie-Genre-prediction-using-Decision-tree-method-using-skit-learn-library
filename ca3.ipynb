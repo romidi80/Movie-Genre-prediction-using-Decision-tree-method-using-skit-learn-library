{
 "cells": [
  {
   "cell_type": "markdown",
   "id": "ba6eac20",
   "metadata": {},
   "source": [
    "# movie genres\n",
    "## Goal :\n",
    "in this project, our goal is to fill-in the gaps of a detaset with the help of predicting our datasets using skit-learn library.\n",
    "\n",
    "## Description :\n",
    "in this project, first we want to fill-in the empty cells using different metods such as fill them with mean number of other existing numbers in that column and then discuss about them. then we are going to find a function in our skit-learn library, to find the best model for our dataset, wich can estimate the target column by considering one of the features in .csv file, . also, we need to analyze wich of the features in the file, is the best feature to be used as a measure, in order to predict the output, wich is the movie genres prediction."
   ]
  },
  {
   "cell_type": "code",
   "execution_count": 2259,
   "id": "61b1646a",
   "metadata": {},
   "outputs": [],
   "source": [
    "import numpy as np\n",
    "import matplotlib.pyplot as plt\n",
    "import pandas as pd\n",
    "import time\n",
    "from sklearn.preprocessing import Normalizer,StandardScaler, OneHotEncoder\n",
    "import pandas as pd\n",
    "from sklearn.feature_extraction.text import CountVectorizer,TfidfVectorizer,TfidfTransformer\n",
    "from sklearn.model_selection import train_test_split\n",
    "from sklearn.feature_selection import mutual_info_classif\n",
    "import matplotlib.pyplot as plt\n",
    "from sklearn.tree import DecisionTreeClassifier\n",
    "from sklearn import metrics"
   ]
  },
  {
   "cell_type": "code",
   "execution_count": 139,
   "id": "301bdaa2",
   "metadata": {},
   "outputs": [],
   "source": [
    "data = pd.read_csv(\"dataset.csv\")\n",
    "df = pd.DataFrame(data)"
   ]
  },
  {
   "cell_type": "markdown",
   "id": "7a7fc51b",
   "metadata": {},
   "source": [
    "## Phase 0:\n",
    "### Part 1 :   "
   ]
  },
  {
   "cell_type": "code",
   "execution_count": 140,
   "id": "b07d74c0",
   "metadata": {},
   "outputs": [
    {
     "data": {
      "text/html": [
       "<div>\n",
       "<style scoped>\n",
       "    .dataframe tbody tr th:only-of-type {\n",
       "        vertical-align: middle;\n",
       "    }\n",
       "\n",
       "    .dataframe tbody tr th {\n",
       "        vertical-align: top;\n",
       "    }\n",
       "\n",
       "    .dataframe thead th {\n",
       "        text-align: right;\n",
       "    }\n",
       "</style>\n",
       "<table border=\"1\" class=\"dataframe\">\n",
       "  <thead>\n",
       "    <tr style=\"text-align: right;\">\n",
       "      <th></th>\n",
       "      <th>type</th>\n",
       "      <th>title</th>\n",
       "      <th>cast</th>\n",
       "      <th>country</th>\n",
       "      <th>release_year</th>\n",
       "      <th>listed_in</th>\n",
       "      <th>description</th>\n",
       "    </tr>\n",
       "  </thead>\n",
       "  <tbody>\n",
       "    <tr>\n",
       "      <th>0</th>\n",
       "      <td>Movie</td>\n",
       "      <td>Dick Johnson Is Dead</td>\n",
       "      <td>NaN</td>\n",
       "      <td>United States</td>\n",
       "      <td>2020</td>\n",
       "      <td>Documentaries</td>\n",
       "      <td>As her father nears the end of his life, filmm...</td>\n",
       "    </tr>\n",
       "    <tr>\n",
       "      <th>1</th>\n",
       "      <td>TV Show</td>\n",
       "      <td>Blood &amp; Water</td>\n",
       "      <td>Ama Qamata, Khosi Ngema, Gail Mabalane, Thaban...</td>\n",
       "      <td>South Africa</td>\n",
       "      <td>2021</td>\n",
       "      <td>International TV Shows, TV Dramas, TV Mysteries</td>\n",
       "      <td>After crossing paths at a party, a Cape Town t...</td>\n",
       "    </tr>\n",
       "    <tr>\n",
       "      <th>2</th>\n",
       "      <td>TV Show</td>\n",
       "      <td>Ganglands</td>\n",
       "      <td>Sami Bouajila, Tracy Gotoas, Samuel Jouy, Nabi...</td>\n",
       "      <td>NaN</td>\n",
       "      <td>2021</td>\n",
       "      <td>Crime TV Shows, International TV Shows, TV Act...</td>\n",
       "      <td>To protect his family from a powerful drug lor...</td>\n",
       "    </tr>\n",
       "    <tr>\n",
       "      <th>3</th>\n",
       "      <td>TV Show</td>\n",
       "      <td>Jailbirds New Orleans</td>\n",
       "      <td>NaN</td>\n",
       "      <td>NaN</td>\n",
       "      <td>2021</td>\n",
       "      <td>Docuseries, Reality TV</td>\n",
       "      <td>Feuds, flirtations and toilet talk go down amo...</td>\n",
       "    </tr>\n",
       "    <tr>\n",
       "      <th>4</th>\n",
       "      <td>TV Show</td>\n",
       "      <td>Kota Factory</td>\n",
       "      <td>Mayur More, Jitendra Kumar, Ranjan Raj, Alam K...</td>\n",
       "      <td>India</td>\n",
       "      <td>2021</td>\n",
       "      <td>International TV Shows, Romantic TV Shows, TV ...</td>\n",
       "      <td>In a city of coaching centers known to train I...</td>\n",
       "    </tr>\n",
       "    <tr>\n",
       "      <th>...</th>\n",
       "      <td>...</td>\n",
       "      <td>...</td>\n",
       "      <td>...</td>\n",
       "      <td>...</td>\n",
       "      <td>...</td>\n",
       "      <td>...</td>\n",
       "      <td>...</td>\n",
       "    </tr>\n",
       "    <tr>\n",
       "      <th>11054</th>\n",
       "      <td>TV Show</td>\n",
       "      <td>X-Men: Evolution</td>\n",
       "      <td>Noel Fisher, Vincent Gale, Christopher Judge, ...</td>\n",
       "      <td>United States</td>\n",
       "      <td>2000</td>\n",
       "      <td>Action-Adventure, Animation, Kids</td>\n",
       "      <td>X-Men: Evolution features the team as teenager...</td>\n",
       "    </tr>\n",
       "    <tr>\n",
       "      <th>11055</th>\n",
       "      <td>TV Show</td>\n",
       "      <td>Smart Guy</td>\n",
       "      <td>Tahj Mowry, John Jones, Jason Weaver, Essence ...</td>\n",
       "      <td>United States</td>\n",
       "      <td>1996</td>\n",
       "      <td>Comedy, Coming of Age, Kids</td>\n",
       "      <td>A genius tries to fit in as a high school soph...</td>\n",
       "    </tr>\n",
       "    <tr>\n",
       "      <th>11056</th>\n",
       "      <td>TV Show</td>\n",
       "      <td>Disney Kirby Buckets</td>\n",
       "      <td>Jacob Bertrand, Mekai Curtis, Cade Sutton, Oli...</td>\n",
       "      <td>United States</td>\n",
       "      <td>2014</td>\n",
       "      <td>Action-Adventure, Comedy, Coming of Age</td>\n",
       "      <td>Welcome to Kirby's world! It's rude and sketchy.</td>\n",
       "    </tr>\n",
       "    <tr>\n",
       "      <th>11057</th>\n",
       "      <td>TV Show</td>\n",
       "      <td>Disney Mech-X4</td>\n",
       "      <td>Nathaniel Potvin, Raymond Cham, Kamran Lucas, ...</td>\n",
       "      <td>Canada</td>\n",
       "      <td>2016</td>\n",
       "      <td>Action-Adventure, Comedy, Science Fiction</td>\n",
       "      <td>Ryan discovers his ability to control a giant ...</td>\n",
       "    </tr>\n",
       "    <tr>\n",
       "      <th>11058</th>\n",
       "      <td>TV Show</td>\n",
       "      <td>Imagination Movers</td>\n",
       "      <td>Rich Collins, Dave Poche, Scott Durbin, Scott ...</td>\n",
       "      <td>United States</td>\n",
       "      <td>2008</td>\n",
       "      <td>Kids, Music</td>\n",
       "      <td>Rock out with the Imagination Movers, Disney J...</td>\n",
       "    </tr>\n",
       "  </tbody>\n",
       "</table>\n",
       "<p>11059 rows × 7 columns</p>\n",
       "</div>"
      ],
      "text/plain": [
       "          type                  title  \\\n",
       "0        Movie   Dick Johnson Is Dead   \n",
       "1      TV Show          Blood & Water   \n",
       "2      TV Show              Ganglands   \n",
       "3      TV Show  Jailbirds New Orleans   \n",
       "4      TV Show           Kota Factory   \n",
       "...        ...                    ...   \n",
       "11054  TV Show       X-Men: Evolution   \n",
       "11055  TV Show              Smart Guy   \n",
       "11056  TV Show   Disney Kirby Buckets   \n",
       "11057  TV Show         Disney Mech-X4   \n",
       "11058  TV Show     Imagination Movers   \n",
       "\n",
       "                                                    cast        country  \\\n",
       "0                                                    NaN  United States   \n",
       "1      Ama Qamata, Khosi Ngema, Gail Mabalane, Thaban...   South Africa   \n",
       "2      Sami Bouajila, Tracy Gotoas, Samuel Jouy, Nabi...            NaN   \n",
       "3                                                    NaN            NaN   \n",
       "4      Mayur More, Jitendra Kumar, Ranjan Raj, Alam K...          India   \n",
       "...                                                  ...            ...   \n",
       "11054  Noel Fisher, Vincent Gale, Christopher Judge, ...  United States   \n",
       "11055  Tahj Mowry, John Jones, Jason Weaver, Essence ...  United States   \n",
       "11056  Jacob Bertrand, Mekai Curtis, Cade Sutton, Oli...  United States   \n",
       "11057  Nathaniel Potvin, Raymond Cham, Kamran Lucas, ...         Canada   \n",
       "11058  Rich Collins, Dave Poche, Scott Durbin, Scott ...  United States   \n",
       "\n",
       "       release_year                                          listed_in  \\\n",
       "0              2020                                      Documentaries   \n",
       "1              2021    International TV Shows, TV Dramas, TV Mysteries   \n",
       "2              2021  Crime TV Shows, International TV Shows, TV Act...   \n",
       "3              2021                             Docuseries, Reality TV   \n",
       "4              2021  International TV Shows, Romantic TV Shows, TV ...   \n",
       "...             ...                                                ...   \n",
       "11054          2000                  Action-Adventure, Animation, Kids   \n",
       "11055          1996                        Comedy, Coming of Age, Kids   \n",
       "11056          2014            Action-Adventure, Comedy, Coming of Age   \n",
       "11057          2016          Action-Adventure, Comedy, Science Fiction   \n",
       "11058          2008                                        Kids, Music   \n",
       "\n",
       "                                             description  \n",
       "0      As her father nears the end of his life, filmm...  \n",
       "1      After crossing paths at a party, a Cape Town t...  \n",
       "2      To protect his family from a powerful drug lor...  \n",
       "3      Feuds, flirtations and toilet talk go down amo...  \n",
       "4      In a city of coaching centers known to train I...  \n",
       "...                                                  ...  \n",
       "11054  X-Men: Evolution features the team as teenager...  \n",
       "11055  A genius tries to fit in as a high school soph...  \n",
       "11056   Welcome to Kirby's world! It's rude and sketchy.  \n",
       "11057  Ryan discovers his ability to control a giant ...  \n",
       "11058  Rock out with the Imagination Movers, Disney J...  \n",
       "\n",
       "[11059 rows x 7 columns]"
      ]
     },
     "execution_count": 140,
     "metadata": {},
     "output_type": "execute_result"
    }
   ],
   "source": [
    "df"
   ]
  },
  {
   "cell_type": "code",
   "execution_count": 141,
   "id": "481c51b5",
   "metadata": {
    "scrolled": true
   },
   "outputs": [
    {
     "data": {
      "text/html": [
       "<div>\n",
       "<style scoped>\n",
       "    .dataframe tbody tr th:only-of-type {\n",
       "        vertical-align: middle;\n",
       "    }\n",
       "\n",
       "    .dataframe tbody tr th {\n",
       "        vertical-align: top;\n",
       "    }\n",
       "\n",
       "    .dataframe thead th {\n",
       "        text-align: right;\n",
       "    }\n",
       "</style>\n",
       "<table border=\"1\" class=\"dataframe\">\n",
       "  <thead>\n",
       "    <tr style=\"text-align: right;\">\n",
       "      <th></th>\n",
       "      <th>release_year</th>\n",
       "    </tr>\n",
       "  </thead>\n",
       "  <tbody>\n",
       "    <tr>\n",
       "      <th>count</th>\n",
       "      <td>11059.000000</td>\n",
       "    </tr>\n",
       "    <tr>\n",
       "      <th>mean</th>\n",
       "      <td>2014.209603</td>\n",
       "    </tr>\n",
       "    <tr>\n",
       "      <th>std</th>\n",
       "      <td>8.959517</td>\n",
       "    </tr>\n",
       "    <tr>\n",
       "      <th>min</th>\n",
       "      <td>1925.000000</td>\n",
       "    </tr>\n",
       "    <tr>\n",
       "      <th>25%</th>\n",
       "      <td>2013.000000</td>\n",
       "    </tr>\n",
       "    <tr>\n",
       "      <th>50%</th>\n",
       "      <td>2017.000000</td>\n",
       "    </tr>\n",
       "    <tr>\n",
       "      <th>75%</th>\n",
       "      <td>2019.000000</td>\n",
       "    </tr>\n",
       "    <tr>\n",
       "      <th>max</th>\n",
       "      <td>2021.000000</td>\n",
       "    </tr>\n",
       "  </tbody>\n",
       "</table>\n",
       "</div>"
      ],
      "text/plain": [
       "       release_year\n",
       "count  11059.000000\n",
       "mean    2014.209603\n",
       "std        8.959517\n",
       "min     1925.000000\n",
       "25%     2013.000000\n",
       "50%     2017.000000\n",
       "75%     2019.000000\n",
       "max     2021.000000"
      ]
     },
     "execution_count": 141,
     "metadata": {},
     "output_type": "execute_result"
    }
   ],
   "source": [
    "df.describe()"
   ]
  },
  {
   "cell_type": "code",
   "execution_count": 142,
   "id": "35cdf821",
   "metadata": {},
   "outputs": [
    {
     "name": "stdout",
     "output_type": "stream",
     "text": [
      "<class 'pandas.core.frame.DataFrame'>\n",
      "RangeIndex: 11059 entries, 0 to 11058\n",
      "Data columns (total 7 columns):\n",
      " #   Column        Non-Null Count  Dtype \n",
      "---  ------        --------------  ----- \n",
      " 0   type          11059 non-null  object\n",
      " 1   title         11059 non-null  object\n",
      " 2   cast          9694 non-null   object\n",
      " 3   country       8364 non-null   object\n",
      " 4   release_year  11059 non-null  int64 \n",
      " 5   listed_in     11059 non-null  object\n",
      " 6   description   11059 non-null  object\n",
      "dtypes: int64(1), object(6)\n",
      "memory usage: 604.9+ KB\n"
     ]
    }
   ],
   "source": [
    "df.info()"
   ]
  },
  {
   "cell_type": "markdown",
   "id": "d18fe0a4",
   "metadata": {},
   "source": [
    "as we can see we have 7 columns in our data set and the \"type\" dataset is our goal column. there is only one column that is numerical and the rest are categorical(objects). in our numerical column we can see that the mean value is 2014.2, the std is 8.95 all data are around 204 and mainly from 2013 to 2021. then we have our goal column that has 2 type of elemebt. then we have our title,description columns that include text data including words that would be tokenized in following parts for better presentation. and at last we have listed-in data and contry wich include number of categories."
   ]
  },
  {
   "cell_type": "markdown",
   "id": "0b099c9b",
   "metadata": {},
   "source": [
    "### part 2:"
   ]
  },
  {
   "cell_type": "code",
   "execution_count": 143,
   "id": "cbd5e355",
   "metadata": {},
   "outputs": [
    {
     "name": "stdout",
     "output_type": "stream",
     "text": [
      "type             0.000000\n",
      "title            0.000000\n",
      "cast            12.342888\n",
      "country         24.369292\n",
      "release_year     0.000000\n",
      "listed_in        0.000000\n",
      "description      0.000000\n",
      "dtype: float64\n"
     ]
    }
   ],
   "source": [
    "print(df.isna().sum()*100/len(df))"
   ]
  },
  {
   "cell_type": "markdown",
   "id": "0839aa0a",
   "metadata": {},
   "source": [
    "with isna() method we return the number of lost data or Nan valuues. as we can see 12.34% of cast data frame has been lost and 24.36% of country column is lost.There are two way to solving the problem of \"lost data\" the first one is removing this lost data from data set and ignore them. The problem of this way is that we ignore data so it appears that is not a good idea. The second approach is to use the mean value of data.When data is missing, it may make sense to delete data, as mentioned above. However, that may not be the most effective option. For example, if too much information is discarded, it may not be possible to complete a reliable analysis. Or there may be insufficient data to generate a reliable prediction for observations that have missing data."
   ]
  },
  {
   "cell_type": "markdown",
   "id": "44547d2e",
   "metadata": {},
   "source": [
    "## Phase 1:\n",
    "### part 1:"
   ]
  },
  {
   "cell_type": "code",
   "execution_count": 144,
   "id": "4f58c8cf",
   "metadata": {
    "scrolled": true
   },
   "outputs": [
    {
     "name": "stdout",
     "output_type": "stream",
     "text": [
      "type            0.0\n",
      "title           0.0\n",
      "cast            0.0\n",
      "country         0.0\n",
      "release_year    0.0\n",
      "listed_in       0.0\n",
      "description     0.0\n",
      "dtype: float64\n"
     ]
    }
   ],
   "source": [
    "fdf = df.fillna(df.mode().iloc[0])\n",
    "print(fdf.isna().sum()*100/len(fdf))"
   ]
  },
  {
   "cell_type": "markdown",
   "id": "56c79939",
   "metadata": {},
   "source": [
    "Mean, Median and Mode\n",
    "This is one of the most common methods of imputing values when dealing with missing data. In cases where there are a small number of missing observations, data scientists can calculate the mean or median of the existing observations. However, when there are many missing variables, mean or median results can result in a loss of variation in the data. This method does not use time-series characteristics or depend on the relationship between the variables.In this way all data will affect to the result so it is the better way. In my algorithm I used the second approach.the reason is that we dont want to lose our dataset values.(the columns that has lost values are categorical, in this case we use mode of or data, instead of mean.)"
   ]
  },
  {
   "attachments": {
    "image.png": {
     "image/png": "[encoded data removed]"
    }
   },
   "cell_type": "markdown",
   "id": "8dbf7d29",
   "metadata": {},
   "source": [
    "### part 2:\n",
    "\"normalization\" typically means that the range of values are \"normalized to be from 0.0 to 1.0\". \"Standardization\" typically means that the range of values are \"standardized\" to measure how many standard deviations the value is from its mean. However, not everyone would agree with that. It's best to explain your definitions before you use them. Normalization rescales the values into a range of [0,1]. This might be useful in some cases where all parameters need to have the same positive scale. However, the outliers from the data set are lost.\n",
    "![image.png](attachment:image.png)Normalization is good to use when you know that the distribution of your data does not follow a Gaussian distribution. This can be useful in algorithms that do not assume any distribution of the data like K-Nearest Neighbors and Neural Networks.\n",
    "Standardization, on the other hand, can be helpful in cases where the data follows a Gaussian distribution. However, this does not have to be necessarily true. Also, unlike normalization, standardization does not have a bounding range. So, even if you have outliers in your data, they will not be affected by standardization.\n",
    "\n",
    "we want to check wich feature hase the most gain with the goal column. in this case we may **standardization** our data so that if one feature was in a higher scale range number than others, it would not cause the gain to be the most value.\n",
    "(there is only one column that has numerical values, in this case the only feature that has to be standarized is release_year feature.the rest would be 0 ro 1, by one hot encoding method.)"
   ]
  },
  {
   "cell_type": "code",
   "execution_count": 2266,
   "id": "c47b0ecf",
   "metadata": {},
   "outputs": [
    {
     "name": "stdout",
     "output_type": "stream",
     "text": [
      "       release_year\n",
      "0               1.0\n",
      "1               1.0\n",
      "2               1.0\n",
      "3               1.0\n",
      "4               1.0\n",
      "...             ...\n",
      "11054           1.0\n",
      "11055           1.0\n",
      "11056           1.0\n",
      "11057           1.0\n",
      "11058           1.0\n",
      "\n",
      "[11059 rows x 1 columns]\n"
     ]
    }
   ],
   "source": [
    "X = np.array(fdf['release_year']).reshape(-1,1)\n",
    "preprossed = pd.DataFrame(Normalizer().fit_transform(X),columns=['release_year'])\n",
    "print(preprossed)"
   ]
  },
  {
   "cell_type": "markdown",
   "id": "e36eefb4",
   "metadata": {},
   "source": [
    "as we can see most of our data is 1.0.the reason for this is that the release_year daa are close to each other and have a low std.if we use this method it would not be so usefull for predicting our goal column. but also using standrization would also be useless because our data are all so close to the mean data. so in this part it doesnt really make any difference using any of this method for normalizing our numerucal data set."
   ]
  },
  {
   "cell_type": "markdown",
   "id": "da53ec8d",
   "metadata": {},
   "source": [
    "### part 3:"
   ]
  },
  {
   "cell_type": "code",
   "execution_count": 2267,
   "id": "2eb9fa0c",
   "metadata": {
    "scrolled": true
   },
   "outputs": [
    {
     "name": "stdout",
     "output_type": "stream",
     "text": [
      "       release_year  type\n",
      "0               1.0     0\n",
      "1               1.0     1\n",
      "2               1.0     1\n",
      "3               1.0     1\n",
      "4               1.0     1\n",
      "...             ...   ...\n",
      "11054           1.0     1\n",
      "11055           1.0     1\n",
      "11056           1.0     1\n",
      "11057           1.0     1\n",
      "11058           1.0     1\n",
      "\n",
      "[11059 rows x 2 columns]\n"
     ]
    }
   ],
   "source": [
    "categorical = fdf['type'].replace(to_replace={'Movie' : 0 ,'TV Show' : 1})\n",
    "preprossed = preprossed.join(pd.DataFrame(categorical))\n",
    "print(preprossed)"
   ]
  },
  {
   "cell_type": "markdown",
   "id": "70147d66",
   "metadata": {},
   "source": [
    "there are two methods for dealing with categorical datasets. first one is label encoding. One of the simplest and most common solutions advertised to transform categorical variables is Label Encoding. It consists of substituting each group with a corresponding number and keeping such numbering consistent throughout the feature.This solution makes the models run, and it is one of the most commonly used by aspiring Data Scientists. However, its simplicity comes with many issues.Numbers hold relationships. For instance, four is twice two, and, when converting categories into numbers directly, these relationships are created despite not existing between the original categories.for avoiding this type of mistakes, we can use one hot encoding.Numbers hold relationships. For instance, four is twice two, and, when converting categories into numbers directly, these relationships are created despite not existing between the original categories.in this project. our goal column only consist of 2 value. so in here it doesnt have any difference between our two methods. and because label encoding is easier than one hot encoding (because in one hot encoding our goal would consists of two columns) we used label encoding for this part.\n"
   ]
  },
  {
   "cell_type": "markdown",
   "id": "ca65c89f",
   "metadata": {},
   "source": [
    "### part 4:"
   ]
  },
  {
   "cell_type": "code",
   "execution_count": 2268,
   "id": "99f8c274",
   "metadata": {},
   "outputs": [
    {
     "data": {
      "text/html": [
       "<div>\n",
       "<style scoped>\n",
       "    .dataframe tbody tr th:only-of-type {\n",
       "        vertical-align: middle;\n",
       "    }\n",
       "\n",
       "    .dataframe tbody tr th {\n",
       "        vertical-align: top;\n",
       "    }\n",
       "\n",
       "    .dataframe thead th {\n",
       "        text-align: right;\n",
       "    }\n",
       "</style>\n",
       "<table border=\"1\" class=\"dataframe\">\n",
       "  <thead>\n",
       "    <tr style=\"text-align: right;\">\n",
       "      <th></th>\n",
       "      <th>release_year</th>\n",
       "      <th>type</th>\n",
       "      <th>love</th>\n",
       "      <th>life</th>\n",
       "      <th>world</th>\n",
       "      <th>series</th>\n",
       "      <th>time</th>\n",
       "      <th>attenborough</th>\n",
       "      <th>david</th>\n",
       "      <th>michael</th>\n",
       "      <th>...</th>\n",
       "      <th>movies</th>\n",
       "      <th>dramas</th>\n",
       "      <th>international</th>\n",
       "      <th>shows</th>\n",
       "      <th>comedies</th>\n",
       "      <th>their</th>\n",
       "      <th>when</th>\n",
       "      <th>from</th>\n",
       "      <th>this</th>\n",
       "      <th>that</th>\n",
       "    </tr>\n",
       "  </thead>\n",
       "  <tbody>\n",
       "    <tr>\n",
       "      <th>0</th>\n",
       "      <td>1.0</td>\n",
       "      <td>0</td>\n",
       "      <td>0.0</td>\n",
       "      <td>0.0</td>\n",
       "      <td>0.0</td>\n",
       "      <td>0.0</td>\n",
       "      <td>0.0</td>\n",
       "      <td>0.748184</td>\n",
       "      <td>0.663491</td>\n",
       "      <td>0.0</td>\n",
       "      <td>...</td>\n",
       "      <td>0.0</td>\n",
       "      <td>0.000000</td>\n",
       "      <td>0.000000</td>\n",
       "      <td>0.000000</td>\n",
       "      <td>0.000000</td>\n",
       "      <td>0.0</td>\n",
       "      <td>0.0</td>\n",
       "      <td>0.000000</td>\n",
       "      <td>0.000000</td>\n",
       "      <td>0.000000</td>\n",
       "    </tr>\n",
       "    <tr>\n",
       "      <th>1</th>\n",
       "      <td>1.0</td>\n",
       "      <td>1</td>\n",
       "      <td>0.0</td>\n",
       "      <td>0.0</td>\n",
       "      <td>0.0</td>\n",
       "      <td>0.0</td>\n",
       "      <td>0.0</td>\n",
       "      <td>0.000000</td>\n",
       "      <td>0.000000</td>\n",
       "      <td>0.0</td>\n",
       "      <td>...</td>\n",
       "      <td>0.0</td>\n",
       "      <td>0.321103</td>\n",
       "      <td>0.282625</td>\n",
       "      <td>0.383961</td>\n",
       "      <td>0.000000</td>\n",
       "      <td>0.0</td>\n",
       "      <td>0.0</td>\n",
       "      <td>0.000000</td>\n",
       "      <td>0.000000</td>\n",
       "      <td>0.000000</td>\n",
       "    </tr>\n",
       "    <tr>\n",
       "      <th>2</th>\n",
       "      <td>1.0</td>\n",
       "      <td>1</td>\n",
       "      <td>0.0</td>\n",
       "      <td>0.0</td>\n",
       "      <td>0.0</td>\n",
       "      <td>0.0</td>\n",
       "      <td>0.0</td>\n",
       "      <td>0.000000</td>\n",
       "      <td>0.000000</td>\n",
       "      <td>0.0</td>\n",
       "      <td>...</td>\n",
       "      <td>0.0</td>\n",
       "      <td>0.000000</td>\n",
       "      <td>0.235774</td>\n",
       "      <td>0.640623</td>\n",
       "      <td>0.000000</td>\n",
       "      <td>0.0</td>\n",
       "      <td>0.0</td>\n",
       "      <td>0.110595</td>\n",
       "      <td>0.000000</td>\n",
       "      <td>0.000000</td>\n",
       "    </tr>\n",
       "    <tr>\n",
       "      <th>3</th>\n",
       "      <td>1.0</td>\n",
       "      <td>1</td>\n",
       "      <td>0.0</td>\n",
       "      <td>0.0</td>\n",
       "      <td>0.0</td>\n",
       "      <td>0.0</td>\n",
       "      <td>0.0</td>\n",
       "      <td>0.748184</td>\n",
       "      <td>0.663491</td>\n",
       "      <td>0.0</td>\n",
       "      <td>...</td>\n",
       "      <td>0.0</td>\n",
       "      <td>0.000000</td>\n",
       "      <td>0.000000</td>\n",
       "      <td>0.000000</td>\n",
       "      <td>0.000000</td>\n",
       "      <td>0.0</td>\n",
       "      <td>0.0</td>\n",
       "      <td>0.000000</td>\n",
       "      <td>0.096781</td>\n",
       "      <td>0.000000</td>\n",
       "    </tr>\n",
       "    <tr>\n",
       "      <th>4</th>\n",
       "      <td>1.0</td>\n",
       "      <td>1</td>\n",
       "      <td>0.0</td>\n",
       "      <td>0.0</td>\n",
       "      <td>0.0</td>\n",
       "      <td>0.0</td>\n",
       "      <td>0.0</td>\n",
       "      <td>0.000000</td>\n",
       "      <td>0.000000</td>\n",
       "      <td>0.0</td>\n",
       "      <td>...</td>\n",
       "      <td>0.0</td>\n",
       "      <td>0.000000</td>\n",
       "      <td>0.276309</td>\n",
       "      <td>0.750762</td>\n",
       "      <td>0.362457</td>\n",
       "      <td>0.0</td>\n",
       "      <td>0.0</td>\n",
       "      <td>0.000000</td>\n",
       "      <td>0.000000</td>\n",
       "      <td>0.000000</td>\n",
       "    </tr>\n",
       "    <tr>\n",
       "      <th>...</th>\n",
       "      <td>...</td>\n",
       "      <td>...</td>\n",
       "      <td>...</td>\n",
       "      <td>...</td>\n",
       "      <td>...</td>\n",
       "      <td>...</td>\n",
       "      <td>...</td>\n",
       "      <td>...</td>\n",
       "      <td>...</td>\n",
       "      <td>...</td>\n",
       "      <td>...</td>\n",
       "      <td>...</td>\n",
       "      <td>...</td>\n",
       "      <td>...</td>\n",
       "      <td>...</td>\n",
       "      <td>...</td>\n",
       "      <td>...</td>\n",
       "      <td>...</td>\n",
       "      <td>...</td>\n",
       "      <td>...</td>\n",
       "      <td>...</td>\n",
       "    </tr>\n",
       "    <tr>\n",
       "      <th>11054</th>\n",
       "      <td>1.0</td>\n",
       "      <td>1</td>\n",
       "      <td>0.0</td>\n",
       "      <td>0.0</td>\n",
       "      <td>0.0</td>\n",
       "      <td>0.0</td>\n",
       "      <td>0.0</td>\n",
       "      <td>0.000000</td>\n",
       "      <td>0.116173</td>\n",
       "      <td>0.0</td>\n",
       "      <td>...</td>\n",
       "      <td>0.0</td>\n",
       "      <td>0.000000</td>\n",
       "      <td>0.000000</td>\n",
       "      <td>0.000000</td>\n",
       "      <td>0.000000</td>\n",
       "      <td>0.0</td>\n",
       "      <td>0.0</td>\n",
       "      <td>0.000000</td>\n",
       "      <td>0.000000</td>\n",
       "      <td>0.164069</td>\n",
       "    </tr>\n",
       "    <tr>\n",
       "      <th>11055</th>\n",
       "      <td>1.0</td>\n",
       "      <td>1</td>\n",
       "      <td>0.0</td>\n",
       "      <td>0.0</td>\n",
       "      <td>0.0</td>\n",
       "      <td>0.0</td>\n",
       "      <td>0.0</td>\n",
       "      <td>0.000000</td>\n",
       "      <td>0.000000</td>\n",
       "      <td>0.0</td>\n",
       "      <td>...</td>\n",
       "      <td>0.0</td>\n",
       "      <td>0.000000</td>\n",
       "      <td>0.000000</td>\n",
       "      <td>0.000000</td>\n",
       "      <td>0.000000</td>\n",
       "      <td>0.0</td>\n",
       "      <td>0.0</td>\n",
       "      <td>0.000000</td>\n",
       "      <td>0.000000</td>\n",
       "      <td>0.000000</td>\n",
       "    </tr>\n",
       "    <tr>\n",
       "      <th>11056</th>\n",
       "      <td>1.0</td>\n",
       "      <td>1</td>\n",
       "      <td>0.0</td>\n",
       "      <td>0.0</td>\n",
       "      <td>0.0</td>\n",
       "      <td>0.0</td>\n",
       "      <td>0.0</td>\n",
       "      <td>0.000000</td>\n",
       "      <td>0.000000</td>\n",
       "      <td>0.0</td>\n",
       "      <td>...</td>\n",
       "      <td>0.0</td>\n",
       "      <td>0.000000</td>\n",
       "      <td>0.000000</td>\n",
       "      <td>0.000000</td>\n",
       "      <td>0.000000</td>\n",
       "      <td>0.0</td>\n",
       "      <td>0.0</td>\n",
       "      <td>0.000000</td>\n",
       "      <td>0.000000</td>\n",
       "      <td>0.000000</td>\n",
       "    </tr>\n",
       "    <tr>\n",
       "      <th>11057</th>\n",
       "      <td>1.0</td>\n",
       "      <td>1</td>\n",
       "      <td>0.0</td>\n",
       "      <td>0.0</td>\n",
       "      <td>0.0</td>\n",
       "      <td>0.0</td>\n",
       "      <td>0.0</td>\n",
       "      <td>0.000000</td>\n",
       "      <td>0.000000</td>\n",
       "      <td>0.0</td>\n",
       "      <td>...</td>\n",
       "      <td>0.0</td>\n",
       "      <td>0.000000</td>\n",
       "      <td>0.000000</td>\n",
       "      <td>0.000000</td>\n",
       "      <td>0.000000</td>\n",
       "      <td>0.0</td>\n",
       "      <td>0.0</td>\n",
       "      <td>0.000000</td>\n",
       "      <td>0.000000</td>\n",
       "      <td>0.000000</td>\n",
       "    </tr>\n",
       "    <tr>\n",
       "      <th>11058</th>\n",
       "      <td>1.0</td>\n",
       "      <td>1</td>\n",
       "      <td>0.0</td>\n",
       "      <td>0.0</td>\n",
       "      <td>0.0</td>\n",
       "      <td>0.0</td>\n",
       "      <td>0.0</td>\n",
       "      <td>0.000000</td>\n",
       "      <td>0.000000</td>\n",
       "      <td>0.0</td>\n",
       "      <td>...</td>\n",
       "      <td>0.0</td>\n",
       "      <td>0.000000</td>\n",
       "      <td>0.000000</td>\n",
       "      <td>0.000000</td>\n",
       "      <td>0.000000</td>\n",
       "      <td>0.0</td>\n",
       "      <td>0.0</td>\n",
       "      <td>0.000000</td>\n",
       "      <td>0.000000</td>\n",
       "      <td>0.000000</td>\n",
       "    </tr>\n",
       "  </tbody>\n",
       "</table>\n",
       "<p>11059 rows × 27 columns</p>\n",
       "</div>"
      ],
      "text/plain": [
       "       release_year  type  love  life  world  series  time  attenborough  \\\n",
       "0               1.0     0   0.0   0.0    0.0     0.0   0.0      0.748184   \n",
       "1               1.0     1   0.0   0.0    0.0     0.0   0.0      0.000000   \n",
       "2               1.0     1   0.0   0.0    0.0     0.0   0.0      0.000000   \n",
       "3               1.0     1   0.0   0.0    0.0     0.0   0.0      0.748184   \n",
       "4               1.0     1   0.0   0.0    0.0     0.0   0.0      0.000000   \n",
       "...             ...   ...   ...   ...    ...     ...   ...           ...   \n",
       "11054           1.0     1   0.0   0.0    0.0     0.0   0.0      0.000000   \n",
       "11055           1.0     1   0.0   0.0    0.0     0.0   0.0      0.000000   \n",
       "11056           1.0     1   0.0   0.0    0.0     0.0   0.0      0.000000   \n",
       "11057           1.0     1   0.0   0.0    0.0     0.0   0.0      0.000000   \n",
       "11058           1.0     1   0.0   0.0    0.0     0.0   0.0      0.000000   \n",
       "\n",
       "          david  michael  ...  movies    dramas  international     shows  \\\n",
       "0      0.663491      0.0  ...     0.0  0.000000       0.000000  0.000000   \n",
       "1      0.000000      0.0  ...     0.0  0.321103       0.282625  0.383961   \n",
       "2      0.000000      0.0  ...     0.0  0.000000       0.235774  0.640623   \n",
       "3      0.663491      0.0  ...     0.0  0.000000       0.000000  0.000000   \n",
       "4      0.000000      0.0  ...     0.0  0.000000       0.276309  0.750762   \n",
       "...         ...      ...  ...     ...       ...            ...       ...   \n",
       "11054  0.116173      0.0  ...     0.0  0.000000       0.000000  0.000000   \n",
       "11055  0.000000      0.0  ...     0.0  0.000000       0.000000  0.000000   \n",
       "11056  0.000000      0.0  ...     0.0  0.000000       0.000000  0.000000   \n",
       "11057  0.000000      0.0  ...     0.0  0.000000       0.000000  0.000000   \n",
       "11058  0.000000      0.0  ...     0.0  0.000000       0.000000  0.000000   \n",
       "\n",
       "       comedies  their  when      from      this      that  \n",
       "0      0.000000    0.0   0.0  0.000000  0.000000  0.000000  \n",
       "1      0.000000    0.0   0.0  0.000000  0.000000  0.000000  \n",
       "2      0.000000    0.0   0.0  0.110595  0.000000  0.000000  \n",
       "3      0.000000    0.0   0.0  0.000000  0.096781  0.000000  \n",
       "4      0.362457    0.0   0.0  0.000000  0.000000  0.000000  \n",
       "...         ...    ...   ...       ...       ...       ...  \n",
       "11054  0.000000    0.0   0.0  0.000000  0.000000  0.164069  \n",
       "11055  0.000000    0.0   0.0  0.000000  0.000000  0.000000  \n",
       "11056  0.000000    0.0   0.0  0.000000  0.000000  0.000000  \n",
       "11057  0.000000    0.0   0.0  0.000000  0.000000  0.000000  \n",
       "11058  0.000000    0.0   0.0  0.000000  0.000000  0.000000  \n",
       "\n",
       "[11059 rows x 27 columns]"
      ]
     },
     "execution_count": 2268,
     "metadata": {},
     "output_type": "execute_result"
    }
   ],
   "source": [
    "vectorizer = CountVectorizer(analyzer='word',token_pattern=r'\\b[a-zA-Z]{4,}\\b',ngram_range=(1, 1),stop_words=['with',])\n",
    "tfidf_transformer = TfidfTransformer(smooth_idf=True, use_idf=True)\n",
    "texts_data = fdf.drop(columns = [\"type\", \"release_year\"])\n",
    "\n",
    "for feature in texts_data:\n",
    "    texts_data[feature]\n",
    "    listed = vectorizer.fit_transform(texts_data[feature])\n",
    "    vectorized = tfidf_transformer.fit_transform(listed)\n",
    "    tfidfed = pd.DataFrame(vectorized.toarray(),columns=vectorizer.get_feature_names())\n",
    "    top5 = sorted(tfidfed.sum(),reverse=True)[:5]\n",
    "    for i in range(5):\n",
    "        preprossed = preprossed.join(pd.DataFrame(tfidfed[tfidfed.sum()[tfidfed.sum() == top5[i]].index]))\n",
    "        \n",
    "        \n",
    "preprossed"
   ]
  },
  {
   "cell_type": "markdown",
   "id": "eae03341",
   "metadata": {},
   "source": [
    "in this part we have implemented the count vectrized part for our data frame wich includes text information. also for part 3 that includes listed data, we also used this method. for each column in this part, we considered 5 top most repeated word in each column and we return them and calculated the wight of each word in each data in our data frame. for calculating such value, we used count vetorized function wich would split all text data in to words and it would put them in alphabet order and also it would remove numerical or other characters also we would not regard words wich consists of less than 4 letter. also we removes the 'with' word in our stopword. as we know stop words are those words wich ae repaeted frequently but are not related to our data clusters and they exist in any class. and considering them as the most reapeted word would nothelp the program to undrestand wich feature is better for our prediction. for solving this problem we used another method call tfidf_transformer. this method would not consider stop words o those words that reapet the most as an important feature and would give a less weight to them. after creating this transformers we would find 5 top most reapeted words in each column and add them to our dataframe. is we consider more features and words, the value of relatable featured and their information gain would decrease and wouldnt be usefull, and it would just make our model slower."
   ]
  },
  {
   "attachments": {
    "image.png": {
     "image/png": "[encoded data removed]"
    }
   },
   "cell_type": "markdown",
   "id": "cf969d94",
   "metadata": {},
   "source": [
    "### part 5:\n",
    "\n",
    "Attribute selection measure is a heuristic for selecting the splitting criterion that partition data into the best possible manner. It is also known as splitting rules because it helps us to determine breakpoints for tuples on a given node. ASM provides a rank to each feature(or attribute) by explaining the given dataset. Best score attribute will be selected as a splitting attribute (Source). In the case of a continuous-valued attribute, split points for branches also need to define. Most popular selection measures are Information Gain, Gain Ratio, and Gini Index.\n",
    "We want to determine which attribute in a given set of training feature vectors is most useful for discriminating between the classes to be learned.\n",
    "\n",
    "• Information gain tells us how important a given attribute of the feature vectors is.\n",
    "\n",
    "• We will use it to decide the ordering of attributes in the nodes of a decision tree.\n",
    "\n",
    "**Information Gain:**\n",
    "\n",
    " Information gain is the decrease in entropy. Information gain computes the difference between entropy before split and average entropy after split of the dataset based on given attribute values.\n",
    " \n",
    "![image.png](attachment:image.png)\n",
    "Where,\n",
    "\n",
    "Info(D) is the average amount of information needed to identify the class label of a tuple in D.\n",
    "|Dj|/|D| acts as the weight of the jth partition.\n",
    "InfoA(D) is the expected informa-tion required to classify a tuple from D based on the partitioning by A.\n",
    "The attribute A with the highest information gain, Gain(A), is chosen as the splitting attribute at node N()."
   ]
  },
  {
   "cell_type": "code",
   "execution_count": 2270,
   "id": "6fda9361",
   "metadata": {
    "scrolled": true
   },
   "outputs": [],
   "source": [
    "Features = preprossed.drop(columns = ['type'])\n",
    "Y = preprossed.drop(columns = Features)\n",
    "gains = mutual_info_classif(Features,Y.values.ravel())"
   ]
  },
  {
   "cell_type": "code",
   "execution_count": 2271,
   "id": "7c75e42c",
   "metadata": {
    "scrolled": false
   },
   "outputs": [
    {
     "data": {
      "text/html": [
       "<div>\n",
       "<style scoped>\n",
       "    .dataframe tbody tr th:only-of-type {\n",
       "        vertical-align: middle;\n",
       "    }\n",
       "\n",
       "    .dataframe tbody tr th {\n",
       "        vertical-align: top;\n",
       "    }\n",
       "\n",
       "    .dataframe thead th {\n",
       "        text-align: right;\n",
       "    }\n",
       "</style>\n",
       "<table border=\"1\" class=\"dataframe\">\n",
       "  <thead>\n",
       "    <tr style=\"text-align: right;\">\n",
       "      <th></th>\n",
       "      <th>features</th>\n",
       "      <th>gains</th>\n",
       "    </tr>\n",
       "  </thead>\n",
       "  <tbody>\n",
       "    <tr>\n",
       "      <th>0</th>\n",
       "      <td>release_year</td>\n",
       "      <td>0.003005</td>\n",
       "    </tr>\n",
       "    <tr>\n",
       "      <th>1</th>\n",
       "      <td>love</td>\n",
       "      <td>0.002038</td>\n",
       "    </tr>\n",
       "    <tr>\n",
       "      <th>2</th>\n",
       "      <td>life</td>\n",
       "      <td>0.001798</td>\n",
       "    </tr>\n",
       "    <tr>\n",
       "      <th>3</th>\n",
       "      <td>world</td>\n",
       "      <td>0.000000</td>\n",
       "    </tr>\n",
       "    <tr>\n",
       "      <th>4</th>\n",
       "      <td>series</td>\n",
       "      <td>0.003348</td>\n",
       "    </tr>\n",
       "    <tr>\n",
       "      <th>5</th>\n",
       "      <td>time</td>\n",
       "      <td>0.001027</td>\n",
       "    </tr>\n",
       "    <tr>\n",
       "      <th>6</th>\n",
       "      <td>attenborough</td>\n",
       "      <td>0.014913</td>\n",
       "    </tr>\n",
       "    <tr>\n",
       "      <th>7</th>\n",
       "      <td>david</td>\n",
       "      <td>0.009092</td>\n",
       "    </tr>\n",
       "    <tr>\n",
       "      <th>8</th>\n",
       "      <td>michael</td>\n",
       "      <td>0.004945</td>\n",
       "    </tr>\n",
       "    <tr>\n",
       "      <th>9</th>\n",
       "      <td>john</td>\n",
       "      <td>0.000000</td>\n",
       "    </tr>\n",
       "    <tr>\n",
       "      <th>10</th>\n",
       "      <td>james</td>\n",
       "      <td>0.002272</td>\n",
       "    </tr>\n",
       "    <tr>\n",
       "      <th>11</th>\n",
       "      <td>united</td>\n",
       "      <td>0.052771</td>\n",
       "    </tr>\n",
       "    <tr>\n",
       "      <th>12</th>\n",
       "      <td>states</td>\n",
       "      <td>0.039090</td>\n",
       "    </tr>\n",
       "    <tr>\n",
       "      <th>13</th>\n",
       "      <td>india</td>\n",
       "      <td>0.032671</td>\n",
       "    </tr>\n",
       "    <tr>\n",
       "      <th>14</th>\n",
       "      <td>kingdom</td>\n",
       "      <td>0.006572</td>\n",
       "    </tr>\n",
       "    <tr>\n",
       "      <th>15</th>\n",
       "      <td>canada</td>\n",
       "      <td>0.002191</td>\n",
       "    </tr>\n",
       "    <tr>\n",
       "      <th>16</th>\n",
       "      <td>movies</td>\n",
       "      <td>0.356653</td>\n",
       "    </tr>\n",
       "    <tr>\n",
       "      <th>17</th>\n",
       "      <td>dramas</td>\n",
       "      <td>0.171205</td>\n",
       "    </tr>\n",
       "    <tr>\n",
       "      <th>18</th>\n",
       "      <td>international</td>\n",
       "      <td>0.241226</td>\n",
       "    </tr>\n",
       "    <tr>\n",
       "      <th>19</th>\n",
       "      <td>shows</td>\n",
       "      <td>0.174580</td>\n",
       "    </tr>\n",
       "    <tr>\n",
       "      <th>20</th>\n",
       "      <td>comedies</td>\n",
       "      <td>0.108911</td>\n",
       "    </tr>\n",
       "    <tr>\n",
       "      <th>21</th>\n",
       "      <td>their</td>\n",
       "      <td>0.024303</td>\n",
       "    </tr>\n",
       "    <tr>\n",
       "      <th>22</th>\n",
       "      <td>when</td>\n",
       "      <td>0.023458</td>\n",
       "    </tr>\n",
       "    <tr>\n",
       "      <th>23</th>\n",
       "      <td>from</td>\n",
       "      <td>0.031005</td>\n",
       "    </tr>\n",
       "    <tr>\n",
       "      <th>24</th>\n",
       "      <td>this</td>\n",
       "      <td>0.015713</td>\n",
       "    </tr>\n",
       "    <tr>\n",
       "      <th>25</th>\n",
       "      <td>that</td>\n",
       "      <td>0.022852</td>\n",
       "    </tr>\n",
       "  </tbody>\n",
       "</table>\n",
       "</div>"
      ],
      "text/plain": [
       "         features     gains\n",
       "0    release_year  0.003005\n",
       "1            love  0.002038\n",
       "2            life  0.001798\n",
       "3           world  0.000000\n",
       "4          series  0.003348\n",
       "5            time  0.001027\n",
       "6    attenborough  0.014913\n",
       "7           david  0.009092\n",
       "8         michael  0.004945\n",
       "9            john  0.000000\n",
       "10          james  0.002272\n",
       "11         united  0.052771\n",
       "12         states  0.039090\n",
       "13          india  0.032671\n",
       "14        kingdom  0.006572\n",
       "15         canada  0.002191\n",
       "16         movies  0.356653\n",
       "17         dramas  0.171205\n",
       "18  international  0.241226\n",
       "19          shows  0.174580\n",
       "20       comedies  0.108911\n",
       "21          their  0.024303\n",
       "22           when  0.023458\n",
       "23           from  0.031005\n",
       "24           this  0.015713\n",
       "25           that  0.022852"
      ]
     },
     "execution_count": 2271,
     "metadata": {},
     "output_type": "execute_result"
    }
   ],
   "source": [
    "headers = list(preprossed.columns)\n",
    "infgain = pd.DataFrame(Features.columns,columns=[\"features\"])\n",
    "infgain = infgain.join(pd.DataFrame(gains,columns=[\"gains\"]))\n",
    "infgain"
   ]
  },
  {
   "cell_type": "markdown",
   "id": "1d207bbd",
   "metadata": {},
   "source": [
    "now between all features we need to find the best feature that has the most related feature to our goal column. for calculating wich word has repeated the most, we have to do a sumation over all values in a column. and each column that has the most value is the most reapeted word. for doing so, we need to use the mutal_info_classif(). this function would use the equation above to calculate ithe information gain of each feature.we calculated gain for each feature and we plot the gain for each feature as it can be seen in the plot, the word \"movie\" and its probability to be shown in a data is more than any of other features. so we esstimate our goal feature based on this.In most situations, more data is usually better. Overfitting is essentially learning spurious correlations that occur in your training data, but not the real world. For example, if you considered only my colleagues, you might learn to associate \"named Matt\" with \"has a beard.\" It's 100% valid (n=4, even!) when considering only the small group of people working on floor, but it's obviously not true in general. Increasing the size of your data set (e.g., to the entire building or city) should reduce these spurious correlations and improve the performance of your learner.\n",
    "That said, one situation where more data does not help---and may even hurt---is if your additional training data is noisy or doesn't match whatever you are trying to predict. I once did an experiment where I plugged different language models[*] into a voice-activated restaurant reservation system. I varied the amount of training data as well as its relevance: at one extreme, I had a small, carefully curated collection of people booking tables, a perfect match for my application. At the other, I had a model estimated from huge collection of classic literature, a more accurate language model, but a much worse match to the application. To my surprise, the small-but-relevant model vastly outperformed the big-but-less-relevant model."
   ]
  },
  {
   "cell_type": "code",
   "execution_count": 2272,
   "id": "5e246334",
   "metadata": {},
   "outputs": [
    {
     "data": {
      "image/png": "[encoded data removed]",
      "text/plain": [
       "<Figure size 1872x720 with 1 Axes>"
      ]
     },
     "metadata": {
      "needs_background": "light"
     },
     "output_type": "display_data"
    }
   ],
   "source": [
    "plt.figure(figsize=(26,10))\n",
    "fig.suptitle(\"Information Gain\")\n",
    "plt.bar(infgain[\"features\"], infgain[\"gains\"]);"
   ]
  },
  {
   "cell_type": "markdown",
   "id": "3de9366b",
   "metadata": {},
   "source": [
    "## Phase 2:\n",
    "### part 1\n",
    "**Decision Tree** is a white box type of ML algorithm. It shares internal decision-making logic, which is not available in the black box type of algorithms such as Neural Network. Its training time is faster compared to the neural network algorithm. The time complexity of decision trees is a function of the number of records and number of attributes in the given data. The decision tree is a distribution-free or non-parametric method, which does not depend upon probability distribution assumptions. Decision trees can handle high dimensional data with good accuracy.\n",
    "\n",
    "**Attribute selection** measure is a heuristic for selecting the splitting criterion that partition data into the best possible manner. It is also known as splitting rules because it helps us to determine breakpoints for tuples on a given node. ASM provides a rank to each feature(or attribute) by explaining the given dataset. Best score attribute will be selected as a splitting attribute (Source). In the case of a continuous-valued attribute, split points for branches also need to define. Most popular selection measures are Information Gain, Gain Ratio, and Gini Index."
   ]
  },
  {
   "cell_type": "code",
   "execution_count": 2112,
   "id": "b6e4b41d",
   "metadata": {},
   "outputs": [],
   "source": [
    "def accurancy_assessment(testsize,maxdepth,minsamples,best_feature, types):\n",
    "    X_train, X_test, y_train, y_test = train_test_split(best_feature, types, test_size=testsize) \n",
    "    clf = DecisionTreeClassifier(criterion=\"entropy\",max_depth=maxdepth,min_samples_split = minsamples,random_state=1)\n",
    "    clf = clf.fit(np.array(X_train).reshape(-1,1),np.array(y_train).reshape(-1,1))   \n",
    "    y_pred = clf.predict(np.array(X_test).reshape(-1,1))\n",
    "    print(\"Accurancy : \", metrics.accuracy_score(np.array(y_test).reshape(-1,1), y_pred)*100,\"%\")\n",
    "    print(metrics.confusion_matrix(np.array(y_test).reshape(-1,1), y_pred))"
   ]
  },
  {
   "cell_type": "code",
   "execution_count": 2325,
   "id": "7ed59ab7",
   "metadata": {
    "scrolled": true
   },
   "outputs": [
    {
     "name": "stdout",
     "output_type": "stream",
     "text": [
      "Accurancy :  83.78378378378379 %\n",
      "[[44 18]\n",
      " [ 0 49]]\n"
     ]
    }
   ],
   "source": [
    "X = preprossed['movies']\n",
    "accurancy_assessment(testsize = 0.01,maxdepth = 10,minsamples = 10,best_feature= X,types=Y)"
   ]
  },
  {
   "cell_type": "code",
   "execution_count": 1661,
   "id": "57d77c4a",
   "metadata": {},
   "outputs": [
    {
     "name": "stdout",
     "output_type": "stream",
     "text": [
      "Accurancy :  87.38738738738738 %\n",
      "[[47 14]\n",
      " [ 0 50]]\n"
     ]
    }
   ],
   "source": [
    "accurancy_assessment(testsize = 0.01,maxdepth = 5,minsamples = 10,best_feature= X,types=Y)"
   ]
  },
  {
   "cell_type": "code",
   "execution_count": 1958,
   "id": "a3ce86f5",
   "metadata": {
    "scrolled": true
   },
   "outputs": [
    {
     "name": "stdout",
     "output_type": "stream",
     "text": [
      "Accurancy :  90.990990990991 %\n",
      "[[41 10]\n",
      " [ 0 60]]\n"
     ]
    }
   ],
   "source": [
    "accurancy_assessment(testsize = 0.01,maxdepth = 6,minsamples = 5,best_feature= X,types=Y)"
   ]
  },
  {
   "cell_type": "code",
   "execution_count": 2395,
   "id": "2fa5be95",
   "metadata": {},
   "outputs": [
    {
     "name": "stdout",
     "output_type": "stream",
     "text": [
      "Accurancy :  84.68468468468468 %\n",
      "[[38 17]\n",
      " [ 0 56]]\n"
     ]
    }
   ],
   "source": [
    "accurancy_assessment(testsize = 0.01,maxdepth = 30,minsamples = 30,best_feature= X,types=Y)"
   ]
  },
  {
   "cell_type": "markdown",
   "id": "16086eb4",
   "metadata": {},
   "source": [
    "as we can see as the max depth raises, our accurancy would raise and same for the min sample split hyper parameter. also maximizing them so much would dicrease the spead and accurancy of the model. so for finding the best hyper parameters we are using a function called gridsearchCv method. this method would calculate accurancy over all range of hyper parameters passed to the function and it would return the best number for our hyper parameters, using this function we have defined the best value for max depth and min sample split hyper parameters. wich are 6 and 10 as it can be shown below."
   ]
  },
  {
   "cell_type": "code",
   "execution_count": 2181,
   "id": "7c7cf9f7",
   "metadata": {},
   "outputs": [
    {
     "data": {
      "text/plain": [
       "{'max_depth': 6, 'min_samples_split': 10}"
      ]
     },
     "execution_count": 2181,
     "metadata": {},
     "output_type": "execute_result"
    }
   ],
   "source": [
    "from sklearn.model_selection import GridSearchCV\n",
    "\n",
    "gsc = GridSearchCV(estimator=DecisionTreeClassifier(criterion=\"entropy\",max_depth=\"max_depth\"\n",
    "            ,min_samples_split=\"min_samples_split\",random_state=1),param_grid={\n",
    "            'max_depth': [2,3,4,5,6,7,8,9,10],\n",
    "            'min_samples_split': [2,3,4,5,6,7,8,9,10]}, error_score=0.01\n",
    "             )\n",
    "\n",
    "\n",
    "grid_result = gsc.fit(np.array(X).reshape(-1,1),np.array(Y).reshape(-1,1))\n",
    "best_params = grid_result.best_params_\n",
    "best_params"
   ]
  },
  {
   "cell_type": "code",
   "execution_count": 2256,
   "id": "371e7ccc",
   "metadata": {},
   "outputs": [
    {
     "name": "stdout",
     "output_type": "stream",
     "text": [
      "Accurancy :  91.8918918918919 %\n",
      "[[53  9]\n",
      " [ 0 49]]\n"
     ]
    }
   ],
   "source": [
    "accurancy_assessment(testsize = 0.01,maxdepth = 6,minsamples = 10,best_feature= X,types=Y)"
   ]
  },
  {
   "cell_type": "code",
   "execution_count": 2343,
   "id": "2cddb609",
   "metadata": {},
   "outputs": [
    {
     "name": "stdout",
     "output_type": "stream",
     "text": [
      "Accurancy :  81.98198198198197 %\n",
      "[[ 78  40]\n",
      " [  0 104]]\n"
     ]
    }
   ],
   "source": [
    "accurancy_assessment(testsize = 0.02,maxdepth = 5,minsamples = 5,best_feature= X,types=Y)"
   ]
  },
  {
   "cell_type": "code",
   "execution_count": 2324,
   "id": "734f3453",
   "metadata": {
    "scrolled": true
   },
   "outputs": [
    {
     "name": "stdout",
     "output_type": "stream",
     "text": [
      "Accurancy :  60.12658227848101 %\n",
      "[[1880  582]\n",
      " [1182  780]]\n"
     ]
    }
   ],
   "source": [
    "accurancy_assessment(testsize = 0.4,maxdepth = 5,minsamples = 5,best_feature= X,types=Y)"
   ]
  },
  {
   "cell_type": "markdown",
   "id": "e9bf7998",
   "metadata": {},
   "source": [
    "raising the percentage of the test data, would weeken our prediction model, because the more our model consider different data, more efficient and with higher accurancy it would be. so as we can see if we pass 0.4 our data for test analyze, our model's accuracy would decrease and it wouldnt be accepted. also if our test size bacame so small(less than 0.01) the number of data that are passed to the classification predictor, and so assume that only one data has passed as the test data to our model. and assume that our predictor has predicted that data true or false, in thos case our accurancy would be assumed as 0% or either 100%. which is not that reliable. because our real accurancy might be 80% but because of predicting only one data right or wrong, we has predicted our accurancy wrong so far. so we should assume a logical number for our percentages of our size of test data. also bigger tree, doesnt necessaryly improve our model. so by testing all possible hyper parameters we can achive to a higher accurancy."
   ]
  },
  {
   "cell_type": "code",
   "execution_count": 2371,
   "id": "9e81a6aa",
   "metadata": {},
   "outputs": [
    {
     "name": "stdout",
     "output_type": "stream",
     "text": [
      "5\n",
      "7\n"
     ]
    },
    {
     "data": {
      "image/png": "[encoded data removed]",
      "text/plain": [
       "<Figure size 432x288 with 1 Axes>"
      ]
     },
     "metadata": {
      "needs_background": "light"
     },
     "output_type": "display_data"
    }
   ],
   "source": [
    "def accurancy(testsize,maxdepth,minsamples,best_feature, types):\n",
    "    X_train, X_test, y_train, y_test = train_test_split(best_feature, types, test_size=testsize) \n",
    "    clf = DecisionTreeClassifier(criterion=\"entropy\",max_depth=maxdepth,min_samples_split = minsamples,random_state=1)\n",
    "    clf = clf.fit(np.array(X_train).reshape(-1,1),np.array(y_train).reshape(-1,1))   \n",
    "    y_pred = clf.predict(np.array(X_test).reshape(-1,1))\n",
    "    return metrics.accuracy_score(np.array(y_test).reshape(-1,1), y_pred)\n",
    "\n",
    "ax = plt.axes(projection='3d')\n",
    "depth = np.linspace(2, 15, 14,dtype = int)\n",
    "\n",
    "minss = np.linspace(2, 15, 14,dtype = int)\n",
    "\n",
    "accuracy = [[0 for x in range(14)] for y in range(14)]\n",
    "for i in range(14):\n",
    "    for j in range(14):\n",
    "        accuracy[i][j]  = accurancy(testsize = 0.02,maxdepth = depth[i],minsamples = minss[j],best_feature= X,types=Y)\n",
    "\n",
    "for d in depth:\n",
    "    for m in minss:       \n",
    "        ax.plot3D(depth, minss, accuracy[d-2][m-2])\n",
    "\n",
    "\n",
    "max_value = max(accuracy)\n",
    "best_depth = accuracy.index(max_value)\n",
    "\n",
    "print(best_depth)\n",
    "max_value = max(accuracy[best_depth])\n",
    "best_min = accuracy[best_depth].index(max_value)\n",
    "print(best_min)"
   ]
  },
  {
   "cell_type": "markdown",
   "id": "59da0dc3",
   "metadata": {},
   "source": [
    "## Phase 3:\n",
    "### part 1 :\n",
    "A random forest is a meta estimator that fits a number of decision tree classifiers on various sub-samples of the dataset and uses averaging to improve the predictive accuracy and control over-fitting. The sub-sample size is controlled with the max_samples parameter if bootstrap=True (default), otherwise the whole dataset is used to build each tree. random forest is a machine learning technique that’s used to solve regression and classification problms. It utilizes ensemble learning, which is a technique that combines many classifiers to provide solutions to complex problems.A random forest algorithm consists of many decision trees. The ‘forest’ generated by the random forest algorithm is trained through bagging or bootstrap aggregating. Bagging is an ensemble meta-algorithm that improves the accuracy of machine learning algorithms.\n",
    "The (random forest) algorithm establishes the outcome based on the predictions of the decision trees. It predicts by taking the average or mean of the output from various trees. Increasing the number of trees increases the precision of the outcome."
   ]
  },
  {
   "cell_type": "code",
   "execution_count": 2397,
   "id": "1fcd901b",
   "metadata": {
    "scrolled": true
   },
   "outputs": [
    {
     "name": "stdout",
     "output_type": "stream",
     "text": [
      "7\n",
      "11\n"
     ]
    },
    {
     "data": {
      "image/png": "[encoded data removed]",
      "text/plain": [
       "<Figure size 432x288 with 1 Axes>"
      ]
     },
     "metadata": {
      "needs_background": "light"
     },
     "output_type": "display_data"
    }
   ],
   "source": [
    "from sklearn.ensemble import RandomForestClassifier\n",
    "\n",
    "def accurancy_rf(maxdepth,minsamples,preprossed, types):\n",
    "    X_train, X_test, y_train, y_test = train_test_split(preprossed, types, test_size=0.1) \n",
    "    clf=RandomForestClassifier()\n",
    "    clf.fit(np.array(X_train),y_train.values.ravel())\n",
    "    y_pred=clf.predict(X_test)\n",
    "    return metrics.accuracy_score(np.array(y_test).reshape(-1,1), y_pred)\n",
    "\n",
    "ax = plt.axes(projection='3d')\n",
    "depth = np.linspace(2, 15, 14,dtype = int)\n",
    "\n",
    "minss = np.linspace(2, 15, 14,dtype = int)\n",
    "\n",
    "accuracy = [[0 for x in range(14)] for y in range(14)]\n",
    "for i in range(14):\n",
    "    for j in range(14):\n",
    "        accuracy[i][j]  = accurancy_rf(maxdepth = depth[i],minsamples = minss[j],preprossed= Features,types=Y)\n",
    "\n",
    "for d in depth:\n",
    "    for m in minss:       \n",
    "        ax.plot3D(depth, minss, accuracy[d-2][m-2])\n",
    "\n",
    "\n",
    "max_value = max(accuracy)\n",
    "best_depth = accuracy.index(max_value)\n",
    "\n",
    "print(best_depth)\n",
    "max_value = max(accuracy[best_depth])\n",
    "best_min = accuracy[best_depth].index(max_value)\n",
    "print(best_min)"
   ]
  },
  {
   "cell_type": "markdown",
   "id": "d15d1fd3",
   "metadata": {},
   "source": [
    "## References :\n",
    "https://stats.stackexchange.com/questions/10289/whats-the-difference-between-normalization-and-standardization\n",
    "\n",
    "https://www.analyticsvidhya.com/blog/2020/04/feature-scaling-machine-learning-normalization-standardization/\n",
    "\n",
    "https://pandas.pydata.org/pandas-docs/stable/reference/api/pandas.DataFrame.html\n",
    "\n",
    "https://scikit-learn.org/stable/modules/generated/sklearn.preprocessing.OneHotEncoder.html\n",
    "\n",
    "https://machinelearningmastery.com/one-hot-encoding-for-categorical-data/\n",
    "\n",
    "https://towardsdatascience.com/dealing-with-list-values-in-pandas-dataframes-a177e534f173\n",
    "\n",
    "https://homes.cs.washington.edu/~shapiro/EE596/notes/InfoGain.pdf\n",
    "\n",
    "https://www.datacamp.com/community/tutorials/decision-tree-classification-python\n",
    "\n",
    "https://thepoints.medium.com/feature-extraction-from-text-using-countvectorizer-tfidfvectorizer-9f74f38f86cc\n",
    "\n",
    "https://medium.datadriveninvestor.com/an-introduction-to-grid-search-ff57adcc0998\n",
    "\n",
    "https://scikit-learn.org/stable/modules/generated/sklearn.ensemble.RandomForestClassifier.html"
   ]
  }
 ],
 "metadata": {
  "kernelspec": {
   "display_name": "Python 3",
   "language": "python",
   "name": "python3"
  },
  "language_info": {
   "codemirror_mode": {
    "name": "ipython",
    "version": 3
   },
   "file_extension": ".py",
   "mimetype": "text/x-python",
   "name": "python",
   "nbconvert_exporter": "python",
   "pygments_lexer": "ipython3",
   "version": "3.8.8"
  }
 },
 "nbformat": 4,
 "nbformat_minor": 5
}
